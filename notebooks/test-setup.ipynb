{
 "cells": [
  {
   "cell_type": "code",
   "execution_count": 2,
   "id": "95f548c5",
   "metadata": {},
   "outputs": [],
   "source": [
    "# If you can run this cell, then your setup works. :)\n",
    "\n",
    "import sklearn\n",
    "import matplotlib as mpl\n",
    "import pandas as pd"
   ]
  }
 ],
 "metadata": {
  "kernelspec": {
   "display_name": "wids-venv",
   "language": "python",
   "name": "wids-venv"
  },
  "language_info": {
   "codemirror_mode": {
    "name": "ipython",
    "version": 3
   },
   "file_extension": ".py",
   "mimetype": "text/x-python",
   "name": "python",
   "nbconvert_exporter": "python",
   "pygments_lexer": "ipython3",
   "version": "3.8.2"
  }
 },
 "nbformat": 4,
 "nbformat_minor": 5
}
