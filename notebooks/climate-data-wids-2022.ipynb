{
 "cells": [
  {
   "cell_type": "markdown",
   "metadata": {},
   "source": [
    "# Import Necessary Libraries"
   ]
  },
  {
   "cell_type": "code",
   "execution_count": 1,
   "metadata": {
    "execution": {
     "iopub.execute_input": "2022-02-26T19:30:20.745852Z",
     "iopub.status.busy": "2022-02-26T19:30:20.745288Z",
     "iopub.status.idle": "2022-02-26T19:30:23.382813Z",
     "shell.execute_reply": "2022-02-26T19:30:23.381779Z",
     "shell.execute_reply.started": "2022-02-26T19:30:20.745794Z"
    }
   },
   "outputs": [],
   "source": [
    "import os\n",
    "import gc\n",
    "import copy\n",
    "\n",
    "# Load all the necessary libraries\n",
    "import numpy as np  # numerical computation with arrays\n",
    "import pandas as pd # library to manipulate datasets using dataframes\n",
    "import scipy as sp  # statistical library\n",
    "from scipy import stats\n",
    "\n",
    "# Load sklearn libraries for machine learning\n",
    "from sklearn.impute import SimpleImputer\n",
    "from sklearn.preprocessing import MinMaxScaler\n",
    "from sklearn.model_selection import train_test_split\n",
    "from sklearn.linear_model import LinearRegression\n",
    "\n",
    "from sklearn.preprocessing import LabelEncoder\n",
    "from sklearn.model_selection import KFold ,RepeatedKFold, StratifiedKFold\n",
    "from sklearn.metrics import mean_squared_error, mean_absolute_error\n",
    "\n",
    "\n",
    "# Load plotting libraries\n",
    "%matplotlib inline\n",
    "import matplotlib\n",
    "import matplotlib.pyplot as plt\n",
    "plt.rcParams.update({'font.size': 18})\n",
    "plt.style.use('ggplot')\n",
    "import seaborn as sns\n",
    "\n",
    "import shap\n",
    "\n",
    "from sklearn.preprocessing import StandardScaler\n",
    "\n",
    "import warnings\n",
    "warnings.filterwarnings('ignore')"
   ]
  },
  {
   "cell_type": "code",
   "execution_count": 2,
   "metadata": {
    "execution": {
     "iopub.execute_input": "2022-02-26T19:30:23.389532Z",
     "iopub.status.busy": "2022-02-26T19:30:23.389206Z",
     "iopub.status.idle": "2022-02-26T19:30:24.156550Z",
     "shell.execute_reply": "2022-02-26T19:30:24.155767Z",
     "shell.execute_reply.started": "2022-02-26T19:30:23.389488Z"
    }
   },
   "outputs": [],
   "source": [
    "!ls .."
   ]
  },
  {
   "cell_type": "markdown",
   "metadata": {},
   "source": [
    "# Load the Data"
   ]
  },
  {
   "cell_type": "code",
   "execution_count": 3,
   "metadata": {
    "execution": {
     "iopub.execute_input": "2022-02-26T19:30:24.158800Z",
     "iopub.status.busy": "2022-02-26T19:30:24.158090Z",
     "iopub.status.idle": "2022-02-26T19:30:24.824374Z",
     "shell.execute_reply": "2022-02-26T19:30:24.823305Z",
     "shell.execute_reply.started": "2022-02-26T19:30:24.158753Z"
    }
   },
   "outputs": [],
   "source": [
    "train_df = pd.read_csv(\"../input/widsdatathon2022/train.csv\")\n",
    "test_df = pd.read_csv(\"../input/widsdatathon2022/test.csv\")"
   ]
  },
  {
   "cell_type": "code",
   "execution_count": 4,
   "metadata": {
    "execution": {
     "iopub.execute_input": "2022-02-26T19:30:24.826844Z",
     "iopub.status.busy": "2022-02-26T19:30:24.826563Z",
     "iopub.status.idle": "2022-02-26T19:30:24.833763Z",
     "shell.execute_reply": "2022-02-26T19:30:24.832847Z",
     "shell.execute_reply.started": "2022-02-26T19:30:24.826807Z"
    }
   },
   "outputs": [],
   "source": [
    "# !git branch -a\n",
    "train_df.shape, test_df.shape"
   ]
  },
  {
   "cell_type": "markdown",
   "metadata": {},
   "source": [
    "## Exploring Data (EDA) + Data Visualization"
   ]
  },
  {
   "cell_type": "code",
   "execution_count": 5,
   "metadata": {
    "execution": {
     "iopub.execute_input": "2022-02-26T19:30:24.835556Z",
     "iopub.status.busy": "2022-02-26T19:30:24.835181Z",
     "iopub.status.idle": "2022-02-26T19:30:24.874795Z",
     "shell.execute_reply": "2022-02-26T19:30:24.874166Z",
     "shell.execute_reply.started": "2022-02-26T19:30:24.835512Z"
    }
   },
   "outputs": [],
   "source": [
    "train_df.head()"
   ]
  },
  {
   "cell_type": "code",
   "execution_count": 6,
   "metadata": {
    "execution": {
     "iopub.execute_input": "2022-02-26T19:30:24.878246Z",
     "iopub.status.busy": "2022-02-26T19:30:24.877730Z",
     "iopub.status.idle": "2022-02-26T19:30:24.930627Z",
     "shell.execute_reply": "2022-02-26T19:30:24.929724Z",
     "shell.execute_reply.started": "2022-02-26T19:30:24.878213Z"
    }
   },
   "outputs": [],
   "source": [
    "train_df.info()"
   ]
  },
  {
   "cell_type": "code",
   "execution_count": 7,
   "metadata": {
    "execution": {
     "iopub.execute_input": "2022-02-26T19:30:24.932338Z",
     "iopub.status.busy": "2022-02-26T19:30:24.932042Z",
     "iopub.status.idle": "2022-02-26T19:30:25.182238Z",
     "shell.execute_reply": "2022-02-26T19:30:25.181271Z",
     "shell.execute_reply.started": "2022-02-26T19:30:24.932295Z"
    }
   },
   "outputs": [],
   "source": [
    "train_df.describe()"
   ]
  },
  {
   "cell_type": "code",
   "execution_count": 8,
   "metadata": {
    "execution": {
     "iopub.execute_input": "2022-02-26T19:30:25.183729Z",
     "iopub.status.busy": "2022-02-26T19:30:25.183491Z",
     "iopub.status.idle": "2022-02-26T19:30:25.189581Z",
     "shell.execute_reply": "2022-02-26T19:30:25.188998Z",
     "shell.execute_reply.started": "2022-02-26T19:30:25.183698Z"
    }
   },
   "outputs": [],
   "source": [
    "train_df.columns"
   ]
  },
  {
   "cell_type": "code",
   "execution_count": 9,
   "metadata": {
    "execution": {
     "iopub.execute_input": "2022-02-26T19:30:25.191415Z",
     "iopub.status.busy": "2022-02-26T19:30:25.190461Z",
     "iopub.status.idle": "2022-02-26T19:30:25.200359Z",
     "shell.execute_reply": "2022-02-26T19:30:25.199442Z",
     "shell.execute_reply.started": "2022-02-26T19:30:25.191368Z"
    }
   },
   "outputs": [],
   "source": [
    "import warnings\n",
    "warnings.filterwarnings(\"ignore\", category=FutureWarning)"
   ]
  },
  {
   "cell_type": "code",
   "execution_count": 10,
   "metadata": {
    "execution": {
     "iopub.execute_input": "2022-02-26T19:30:25.201809Z",
     "iopub.status.busy": "2022-02-26T19:30:25.201534Z",
     "iopub.status.idle": "2022-02-26T19:30:40.486866Z",
     "shell.execute_reply": "2022-02-26T19:30:40.485937Z",
     "shell.execute_reply.started": "2022-02-26T19:30:25.201753Z"
    }
   },
   "outputs": [],
   "source": [
    "# Looking at the distributions of all numerical variables\n",
    "plt.figure(figsize=(20,20))\n",
    "\n",
    "col = ['floor_area', 'year_built', 'energy_star_rating', 'ELEVATION', 'cooling_degree_days','heating_degree_days',\n",
    "       'precipitation_inches', 'snowfall_inches', 'snowdepth_inches', 'avg_temp', 'days_below_30F', 'days_below_20F',\n",
    "       'days_below_10F', 'days_below_0F', 'days_above_80F', 'days_above_90F', 'days_above_100F', 'days_above_110F',\n",
    "       'direction_max_wind_speed', 'direction_peak_wind_speed', 'max_wind_speed', 'days_with_fog']\n",
    "\n",
    "a = 1\n",
    "for i in range(len(col)):\n",
    "    plt.subplot(8, 3, a); \n",
    "    sns.distplot(train_df[col[i]])\n",
    "    sns.distplot(test_df[col[i]])\n",
    "    plt.xlabel(col[i])\n",
    "    a += 1\n",
    "\n",
    "plt.tight_layout()\n",
    "\n",
    "# Differences - Elevation, cooling_degree_days, heating_degree_days, snowfall_inches, avg_temp, days_below_20F,\n",
    "# days_above_80F, direction_max_wind_speed, direction_peak_wind_speed, max_wind_speed, days_with_fog"
   ]
  },
  {
   "cell_type": "code",
   "execution_count": 11,
   "metadata": {
    "execution": {
     "iopub.execute_input": "2022-02-26T19:30:40.490327Z",
     "iopub.status.busy": "2022-02-26T19:30:40.489430Z",
     "iopub.status.idle": "2022-02-26T19:31:06.210130Z",
     "shell.execute_reply": "2022-02-26T19:31:06.209217Z",
     "shell.execute_reply.started": "2022-02-26T19:30:40.490286Z"
    }
   },
   "outputs": [],
   "source": [
    "# Looking at the distributions of all temperature variables\n",
    "plt.figure(figsize=(20,20))\n",
    "\n",
    "months = [\"january\", \"february\", \"march\", \"april\", \"may\", \"june\", \"july\", \"august\", \"september\", \"october\", \\\n",
    "          \"november\", \"december\"]\n",
    "temp_cal = [\"min\", \"avg\", \"max\"]\n",
    "a = 1\n",
    "for i in range(len(months)):\n",
    "    for j in temp_cal:\n",
    "        plt.subplot(12, 3, a); \n",
    "        sns.distplot(train_df[months[i]+\"_\"+ j +\"_temp\"])\n",
    "        sns.distplot(test_df[months[i]+\"_\"+ j +\"_temp\"])        \n",
    "        plt.xlabel(months[i]+\"_\"+ j +\"_temp\")\n",
    "        a += 1\n",
    "\n",
    "plt.tight_layout()\n",
    "\n",
    "# Differences - "
   ]
  },
  {
   "cell_type": "code",
   "execution_count": 12,
   "metadata": {
    "execution": {
     "iopub.execute_input": "2022-02-26T19:31:06.211990Z",
     "iopub.status.busy": "2022-02-26T19:31:06.211660Z",
     "iopub.status.idle": "2022-02-26T19:31:12.809851Z",
     "shell.execute_reply": "2022-02-26T19:31:12.808785Z",
     "shell.execute_reply.started": "2022-02-26T19:31:06.211952Z"
    }
   },
   "outputs": [],
   "source": [
    "# Looking at the distributions of all discrete variables in train dataset\n",
    "plt.figure(figsize=(20,15))\n",
    "discrete = ['Year_Factor', 'State_Factor', 'building_class', 'facility_type', 'energy_star_rating', 'year_built']\n",
    "a = 1\n",
    "for i in range(len(discrete)):\n",
    "    plt.subplot(3, 3, a); \n",
    "    sns.countplot(train_df[discrete[i]])\n",
    "    plt.xlabel(discrete[i])\n",
    "    a += 1\n",
    "plt.tight_layout()"
   ]
  },
  {
   "cell_type": "code",
   "execution_count": 13,
   "metadata": {
    "execution": {
     "iopub.execute_input": "2022-02-26T19:31:12.811612Z",
     "iopub.status.busy": "2022-02-26T19:31:12.811290Z",
     "iopub.status.idle": "2022-02-26T19:31:18.800748Z",
     "shell.execute_reply": "2022-02-26T19:31:18.799767Z",
     "shell.execute_reply.started": "2022-02-26T19:31:12.811570Z"
    }
   },
   "outputs": [],
   "source": [
    "# Looking at the distributions of all discrete variables in test dataset\n",
    "plt.figure(figsize=(20,15))\n",
    "discrete = ['Year_Factor', 'State_Factor', 'building_class', 'facility_type', 'energy_star_rating', 'year_built']\n",
    "a = 1\n",
    "for i in range(len(discrete)):\n",
    "    plt.subplot(3, 3, a); \n",
    "    sns.countplot(test_df[discrete[i]])\n",
    "    plt.xlabel(discrete[i])\n",
    "    a += 1\n",
    "plt.tight_layout()"
   ]
  },
  {
   "cell_type": "code",
   "execution_count": 14,
   "metadata": {
    "execution": {
     "iopub.execute_input": "2022-02-26T19:31:18.802640Z",
     "iopub.status.busy": "2022-02-26T19:31:18.802343Z",
     "iopub.status.idle": "2022-02-26T19:31:19.450567Z",
     "shell.execute_reply": "2022-02-26T19:31:19.449640Z",
     "shell.execute_reply.started": "2022-02-26T19:31:18.802601Z"
    }
   },
   "outputs": [],
   "source": [
    "# Distribution of target variable\n",
    "sns.distplot(train_df[\"site_eui\"])\n",
    "plt.xlabel(\"site_eui\")"
   ]
  },
  {
   "cell_type": "code",
   "execution_count": 15,
   "metadata": {
    "execution": {
     "iopub.execute_input": "2022-02-26T19:31:19.452673Z",
     "iopub.status.busy": "2022-02-26T19:31:19.452004Z",
     "iopub.status.idle": "2022-02-26T19:31:19.499553Z",
     "shell.execute_reply": "2022-02-26T19:31:19.498702Z",
     "shell.execute_reply.started": "2022-02-26T19:31:19.452633Z"
    }
   },
   "outputs": [],
   "source": [
    "# Features having missing values in train data\n",
    "train_df_na = pd.DataFrame(train_df.isna().sum())\n",
    "train_df_na[\"total\"] = train_df.shape[0]\n",
    "train_df_na[\"perc_missing\"] = round((train_df_na[0]/train_df_na[\"total\"])*100,2)\n",
    "train_df_na[train_df_na.iloc[:,0]>0]"
   ]
  },
  {
   "cell_type": "code",
   "execution_count": 16,
   "metadata": {
    "execution": {
     "iopub.execute_input": "2022-02-26T19:31:19.501769Z",
     "iopub.status.busy": "2022-02-26T19:31:19.500870Z",
     "iopub.status.idle": "2022-02-26T19:31:19.523331Z",
     "shell.execute_reply": "2022-02-26T19:31:19.522278Z",
     "shell.execute_reply.started": "2022-02-26T19:31:19.501721Z"
    }
   },
   "outputs": [],
   "source": [
    "# Features having missing values in test data\n",
    "test_df_na = pd.DataFrame(test_df.isna().sum())\n",
    "test_df_na[\"total\"] = test_df.shape[0]\n",
    "test_df_na[\"perc_missing\"] = round((test_df_na[0]/test_df_na[\"total\"])*100,2)\n",
    "test_df_na[test_df_na.iloc[:,0]>0]"
   ]
  },
  {
   "cell_type": "markdown",
   "metadata": {},
   "source": [
    "### Dealing with Missing Values"
   ]
  },
  {
   "cell_type": "code",
   "execution_count": 17,
   "metadata": {
    "execution": {
     "iopub.execute_input": "2022-02-26T19:31:19.524993Z",
     "iopub.status.busy": "2022-02-26T19:31:19.524641Z",
     "iopub.status.idle": "2022-02-26T19:31:19.550956Z",
     "shell.execute_reply": "2022-02-26T19:31:19.550074Z",
     "shell.execute_reply.started": "2022-02-26T19:31:19.524959Z"
    }
   },
   "outputs": [],
   "source": [
    "# Removing the 4 features above, since > 80% missing in test data\n",
    "# removing days_above_110F since has only 0's as values\n",
    "var_remove = [\"direction_max_wind_speed\", \"direction_peak_wind_speed\", \"max_wind_speed\", \"days_with_fog\", \"days_above_110F\"]\n",
    "train_df = train_df.drop(columns=var_remove, axis=1)\n",
    "test_df = test_df.drop(columns=var_remove, axis=1)\n",
    "train_df.shape, test_df.shape"
   ]
  },
  {
   "cell_type": "code",
   "execution_count": 18,
   "metadata": {
    "execution": {
     "iopub.execute_input": "2022-02-26T19:31:19.552210Z",
     "iopub.status.busy": "2022-02-26T19:31:19.551997Z",
     "iopub.status.idle": "2022-02-26T19:31:19.565337Z",
     "shell.execute_reply": "2022-02-26T19:31:19.564783Z",
     "shell.execute_reply.started": "2022-02-26T19:31:19.552184Z"
    }
   },
   "outputs": [],
   "source": [
    "train_df.energy_star_rating.value_counts(), test_df.energy_star_rating.value_counts(), \\\n",
    "test_df.energy_star_rating.min()"
   ]
  },
  {
   "cell_type": "code",
   "execution_count": 20,
   "metadata": {
    "execution": {
     "iopub.execute_input": "2022-02-26T19:31:19.573179Z",
     "iopub.status.busy": "2022-02-26T19:31:19.572868Z",
     "iopub.status.idle": "2022-02-26T19:31:19.591733Z",
     "shell.execute_reply": "2022-02-26T19:31:19.590599Z",
     "shell.execute_reply.started": "2022-02-26T19:31:19.573136Z"
    }
   },
   "outputs": [],
   "source": [
    "# year_built: replace with 2000, which is the mode year in test dataset.\n",
    "train_df['year_built'] =train_df['year_built'].replace(np.nan, 2000)\n",
    "#replacing energy_star_rating missing values with median\n",
    "train_df['energy_star_rating']=train_df['energy_star_rating'].replace(np.nan,train_df['energy_star_rating'].median())\n",
    "\n",
    "# Replicating the above steps for test dataset\n",
    "test_df['year_built'] =test_df['year_built'].replace(np.nan, 2000)\n",
    "test_df['energy_star_rating']=test_df['energy_star_rating'].replace(np.nan,train_df['energy_star_rating'].median())\n",
    "\n",
    "train_df.shape, test_df.shape"
   ]
  },
  {
   "cell_type": "code",
   "execution_count": 21,
   "metadata": {
    "execution": {
     "iopub.execute_input": "2022-02-26T19:31:19.593659Z",
     "iopub.status.busy": "2022-02-26T19:31:19.593357Z",
     "iopub.status.idle": "2022-02-26T19:31:21.835814Z",
     "shell.execute_reply": "2022-02-26T19:31:21.834866Z",
     "shell.execute_reply.started": "2022-02-26T19:31:19.593619Z"
    }
   },
   "outputs": [],
   "source": [
    "# Looking at the distribution of facility type variable in train dataset\n",
    "plt.figure(figsize=(16,24))\n",
    "\n",
    "sns.countplot(y=\"facility_type\",data=train_df)\n",
    "plt.title('Train')"
   ]
  },
  {
   "cell_type": "code",
   "execution_count": 22,
   "metadata": {
    "execution": {
     "iopub.execute_input": "2022-02-26T19:31:21.837955Z",
     "iopub.status.busy": "2022-02-26T19:31:21.837294Z",
     "iopub.status.idle": "2022-02-26T19:31:23.395350Z",
     "shell.execute_reply": "2022-02-26T19:31:23.394727Z",
     "shell.execute_reply.started": "2022-02-26T19:31:21.837907Z"
    }
   },
   "outputs": [],
   "source": [
    "# Looking at the distribution of facility type variable in test dataset\n",
    "plt.figure(figsize=(16,24))\n",
    "\n",
    "sns.countplot(y=\"facility_type\",data=test_df)\n",
    "plt.title('Test')"
   ]
  },
  {
   "cell_type": "markdown",
   "metadata": {},
   "source": [
    "### Feature Preprocessing"
   ]
  },
  {
   "cell_type": "code",
   "execution_count": 23,
   "metadata": {
    "execution": {
     "iopub.execute_input": "2022-02-26T19:31:23.397011Z",
     "iopub.status.busy": "2022-02-26T19:31:23.396599Z",
     "iopub.status.idle": "2022-02-26T19:31:23.502720Z",
     "shell.execute_reply": "2022-02-26T19:31:23.501830Z",
     "shell.execute_reply.started": "2022-02-26T19:31:23.396974Z"
    }
   },
   "outputs": [],
   "source": [
    "num_features = train_df.select_dtypes(include=['float64']).columns.values\n",
    "\n",
    "# Compute correlations between all numerical features\n",
    "\n",
    "train_corr = train_df[num_features].corr()"
   ]
  },
  {
   "cell_type": "code",
   "execution_count": 24,
   "metadata": {
    "execution": {
     "iopub.execute_input": "2022-02-26T19:31:23.504311Z",
     "iopub.status.busy": "2022-02-26T19:31:23.504064Z",
     "iopub.status.idle": "2022-02-26T19:31:23.513733Z",
     "shell.execute_reply": "2022-02-26T19:31:23.512968Z",
     "shell.execute_reply.started": "2022-02-26T19:31:23.504279Z"
    }
   },
   "outputs": [],
   "source": [
    "# Sort features by their (absolute) correlation with the target variable.\n",
    "# Here we see that \"energy_star_rating\" is highly correlated with site_eui (our target), so it might be a good predictor.\n",
    "\n",
    "train_corr.sort_values(by='site_eui', key=abs, ascending=False)['site_eui']"
   ]
  },
  {
   "cell_type": "code",
   "execution_count": 25,
   "metadata": {
    "execution": {
     "iopub.execute_input": "2022-02-26T19:31:23.517439Z",
     "iopub.status.busy": "2022-02-26T19:31:23.517225Z",
     "iopub.status.idle": "2022-02-26T19:31:24.403645Z",
     "shell.execute_reply": "2022-02-26T19:31:24.402843Z",
     "shell.execute_reply.started": "2022-02-26T19:31:23.517414Z"
    }
   },
   "outputs": [],
   "source": [
    "# Plot correlations as a heatmap\n",
    "# This could indicate that we can drop some of these features.\n",
    "\n",
    "fig, ax = plt.subplots(figsize=(27, 30))\n",
    "sns.heatmap(train_corr, vmin=-1, vmax=1, cmap = 'RdBu_r', xticklabels=True, yticklabels=True, cbar_kws={'label' : 'correlation'}, ax=ax)"
   ]
  },
  {
   "cell_type": "code",
   "execution_count": 26,
   "metadata": {
    "execution": {
     "iopub.execute_input": "2022-02-26T19:31:24.405831Z",
     "iopub.status.busy": "2022-02-26T19:31:24.405026Z",
     "iopub.status.idle": "2022-02-26T19:31:24.413829Z",
     "shell.execute_reply": "2022-02-26T19:31:24.412919Z",
     "shell.execute_reply.started": "2022-02-26T19:31:24.405786Z"
    }
   },
   "outputs": [],
   "source": [
    "# We see that jan_feb_mar_apr temp are similar, may_june_jul_aug_sep, nov_dec\n",
    "# train_df['jan_to_apr_avg_temp'] = train_df[['january_avg_temp','february_avg_temp','march_avg_temp']].mean(axis = 1)\n",
    "# train_df['may_to_sep_avg_temp'] = train_df[['may_avg_temp','june_avg_temp','july_avg_temp','august_avg_temp',\\\n",
    "#                                             'september_avg_temp']].mean(axis = 1)\n",
    "# train_df['nov_dec_avg_temp'] = train_df[['november_avg_temp','december_avg_temp']].mean(axis = 1)\n",
    "\n",
    "# test_df['jan_to_apr_avg_temp'] = test_df[['january_avg_temp','february_avg_temp','march_avg_temp']].mean(axis = 1)\n",
    "# test_df['may_to_sep_avg_temp'] = test_df[['may_avg_temp','june_avg_temp','july_avg_temp','august_avg_temp',\\\n",
    "#                                             'september_avg_temp']].mean(axis = 1)\n",
    "# test_df['nov_dec_avg_temp'] = test_df[['november_avg_temp','december_avg_temp']].mean(axis = 1)\n",
    "\n",
    "train_df.shape, test_df.shape"
   ]
  },
  {
   "cell_type": "code",
   "execution_count": 27,
   "metadata": {
    "execution": {
     "iopub.execute_input": "2022-02-26T19:31:24.415669Z",
     "iopub.status.busy": "2022-02-26T19:31:24.415348Z",
     "iopub.status.idle": "2022-02-26T19:31:24.505893Z",
     "shell.execute_reply": "2022-02-26T19:31:24.505090Z",
     "shell.execute_reply.started": "2022-02-26T19:31:24.415626Z"
    }
   },
   "outputs": [],
   "source": [
    "# Label Encoding State_Factor, building_class, and facility_type\n",
    "le = LabelEncoder()\n",
    "\n",
    "train_df['State_Factor_le']= le.fit_transform(train_df['State_Factor']).astype(\"uint8\")\n",
    "test_df['State_Factor_le']= le.fit_transform(test_df['State_Factor']).astype(\"uint8\")\n",
    "\n",
    "train_df['building_class_le']= le.fit_transform(train_df['building_class']).astype(\"uint8\")\n",
    "test_df['building_class_le']= le.fit_transform(test_df['building_class']).astype(\"uint8\")\n",
    "\n",
    "train_df['facility_type_le']= le.fit_transform(train_df['facility_type']).astype(\"uint8\")\n",
    "test_df['facility_type_le']= le.fit_transform(test_df['facility_type']).astype(\"uint8\")\n",
    "train_df.shape, test_df.shape"
   ]
  },
  {
   "cell_type": "code",
   "execution_count": 31,
   "metadata": {
    "execution": {
     "iopub.execute_input": "2022-02-26T19:31:24.539070Z",
     "iopub.status.busy": "2022-02-26T19:31:24.538591Z",
     "iopub.status.idle": "2022-02-26T19:31:24.566276Z",
     "shell.execute_reply": "2022-02-26T19:31:24.565744Z",
     "shell.execute_reply.started": "2022-02-26T19:31:24.539036Z"
    }
   },
   "outputs": [],
   "source": [
    "# Looking at average site_eui across state_factor values in train dataset\n",
    "a = train_df.groupby(\"State_Factor\").agg({'site_eui': 'mean', 'id': 'count'}).reset_index()\n",
    "a[\"perc_count\"] = (a[\"id\"]/train_df.shape[0])*100\n",
    "a"
   ]
  },
  {
   "cell_type": "code",
   "execution_count": 32,
   "metadata": {
    "execution": {
     "iopub.execute_input": "2022-02-26T19:34:01.585392Z",
     "iopub.status.busy": "2022-02-26T19:34:01.585072Z",
     "iopub.status.idle": "2022-02-26T19:34:01.607260Z",
     "shell.execute_reply": "2022-02-26T19:34:01.606591Z",
     "shell.execute_reply.started": "2022-02-26T19:34:01.585353Z"
    }
   },
   "outputs": [],
   "source": [
    "# Looking at average site_eui across state_factor values in test dataset\n",
    "b = test_df.groupby(\"State_Factor\").agg({'id': 'count'}).reset_index()\n",
    "b[\"perc_count\"] = (b[\"id\"]/test_df.shape[0])*100\n",
    "b\n",
    "\n",
    "# Binning State_Factor using the frequency and average site_eui distributions across train and test, with the below bins:\n",
    "# State_Factors 1 and 10\n",
    "# State_Factor 11\n",
    "# State_Factors 6, 4, and 8\n",
    "# State_Factor 2"
   ]
  },
  {
   "cell_type": "code",
   "execution_count": 33,
   "metadata": {
    "execution": {
     "iopub.execute_input": "2022-02-26T19:34:03.076792Z",
     "iopub.status.busy": "2022-02-26T19:34:03.075921Z",
     "iopub.status.idle": "2022-02-26T19:34:03.116431Z",
     "shell.execute_reply": "2022-02-26T19:34:03.115810Z",
     "shell.execute_reply.started": "2022-02-26T19:34:03.076726Z"
    }
   },
   "outputs": [],
   "source": [
    "# Binning State_Factor based on above logic\n",
    "train_df[\"State_Factor_bin\"] = train_df[\"State_Factor\"].apply(lambda x: \"State_1_10\" if x in [\"State_1\",\"State_10\"]\\\n",
    "                                                              else \"State_11\" if x in [\"State_11\"] else \"State_6_4_8\"\n",
    "                                                              if x in [\"State_6\", \"State_4\", \"State_8\"] else \"State_Others\")\n",
    "\n",
    "test_df[\"State_Factor_bin\"] = test_df[\"State_Factor\"].apply(lambda x: \"State_1_10\" if x in [\"State_1\",\"State_10\"]\\\n",
    "                                                              else \"State_11\" if x in [\"State_11\"] else \"State_6_4_8\"\n",
    "                                                              if x in [\"State_6\", \"State_4\", \"State_8\"] else \"State_Others\")"
   ]
  },
  {
   "cell_type": "code",
   "execution_count": null,
   "metadata": {},
   "outputs": [],
   "source": [
    "# Looking at the distribution across the State_Factor bins created in train\n",
    "train_df[\"State_Factor_bin\"].value_counts()/train_df.shape[0]"
   ]
  },
  {
   "cell_type": "code",
   "execution_count": null,
   "metadata": {},
   "outputs": [],
   "source": [
    "# Looking at the distribution across the State_Factor bins created in test\n",
    "test_df[\"State_Factor_bin\"].value_counts()/test_df.shape[0]"
   ]
  },
  {
   "cell_type": "code",
   "execution_count": 34,
   "metadata": {
    "execution": {
     "iopub.execute_input": "2022-02-26T19:34:03.906823Z",
     "iopub.status.busy": "2022-02-26T19:34:03.906252Z",
     "iopub.status.idle": "2022-02-26T19:34:03.936534Z",
     "shell.execute_reply": "2022-02-26T19:34:03.935829Z",
     "shell.execute_reply.started": "2022-02-26T19:34:03.906754Z"
    }
   },
   "outputs": [],
   "source": [
    "# Label Encoding the binned state_factor variable in train and test\n",
    "\n",
    "train_df[\"State_Factor_bin_le\"] = le.fit_transform(train_df[\"State_Factor_bin\"]).astype(\"uint8\")\n",
    "test_df[\"State_Factor_bin_le\"] = le.fit_transform(test_df[\"State_Factor_bin\"]).astype(\"uint8\")"
   ]
  },
  {
   "cell_type": "code",
   "execution_count": 35,
   "metadata": {
    "execution": {
     "iopub.execute_input": "2022-02-26T19:34:04.598115Z",
     "iopub.status.busy": "2022-02-26T19:34:04.597802Z",
     "iopub.status.idle": "2022-02-26T19:34:04.628008Z",
     "shell.execute_reply": "2022-02-26T19:34:04.627435Z",
     "shell.execute_reply.started": "2022-02-26T19:34:04.598079Z"
    }
   },
   "outputs": [],
   "source": [
    "# Dropping State_Factor_bin and State_Factor label encoded\n",
    "\n",
    "train_df = train_df.drop(columns=['State_Factor_bin','State_Factor_le'], axis=1)\n",
    "test_df = test_df.drop(columns=['State_Factor_bin','State_Factor_le'], axis=1)\n",
    "train_df.shape, test_df.shape"
   ]
  },
  {
   "cell_type": "code",
   "execution_count": 36,
   "metadata": {
    "execution": {
     "iopub.execute_input": "2022-02-26T19:34:05.119601Z",
     "iopub.status.busy": "2022-02-26T19:34:05.119207Z",
     "iopub.status.idle": "2022-02-26T19:34:05.130101Z",
     "shell.execute_reply": "2022-02-26T19:34:05.128859Z",
     "shell.execute_reply.started": "2022-02-26T19:34:05.119554Z"
    }
   },
   "outputs": [],
   "source": [
    "# Creating time_since_built for better interpretation of the variable\n",
    "from datetime import date\n",
    "\n",
    "train_df[\"time_since_built\"] = date.today().year - train_df[\"year_built\"]\n",
    "test_df[\"time_since_built\"] = date.today().year - test_df[\"year_built\"]"
   ]
  },
  {
   "cell_type": "code",
   "execution_count": 37,
   "metadata": {
    "execution": {
     "iopub.execute_input": "2022-02-26T19:34:05.642370Z",
     "iopub.status.busy": "2022-02-26T19:34:05.641691Z",
     "iopub.status.idle": "2022-02-26T19:34:05.655591Z",
     "shell.execute_reply": "2022-02-26T19:34:05.654946Z",
     "shell.execute_reply.started": "2022-02-26T19:34:05.642319Z"
    }
   },
   "outputs": [],
   "source": [
    "train_df[[\"year_built\", \"time_since_built\"]]\n",
    "train_df.shape, test_df.shape"
   ]
  },
  {
   "cell_type": "code",
   "execution_count": 38,
   "metadata": {
    "execution": {
     "iopub.execute_input": "2022-02-26T19:34:06.008556Z",
     "iopub.status.busy": "2022-02-26T19:34:06.007930Z",
     "iopub.status.idle": "2022-02-26T19:34:06.903666Z",
     "shell.execute_reply": "2022-02-26T19:34:06.902658Z",
     "shell.execute_reply.started": "2022-02-26T19:34:06.008509Z"
    }
   },
   "outputs": [],
   "source": [
    "# Plotting the distribution of time_since_built in train and test\n",
    "plt.figure(figsize=(8,5))\n",
    "\n",
    "sns.distplot(train_df[\"time_since_built\"])\n",
    "sns.distplot(test_df[\"time_since_built\"])        \n",
    "plt.xlabel(\"time_since_built\")\n",
    "\n",
    "plt.tight_layout()"
   ]
  },
  {
   "cell_type": "code",
   "execution_count": 42,
   "metadata": {
    "execution": {
     "iopub.execute_input": "2022-02-26T19:34:07.589505Z",
     "iopub.status.busy": "2022-02-26T19:34:07.588706Z",
     "iopub.status.idle": "2022-02-26T19:34:07.595459Z",
     "shell.execute_reply": "2022-02-26T19:34:07.594835Z",
     "shell.execute_reply.started": "2022-02-26T19:34:07.589465Z"
    }
   },
   "outputs": [],
   "source": [
    "train_df.columns"
   ]
  },
  {
   "cell_type": "code",
   "execution_count": 43,
   "metadata": {
    "execution": {
     "iopub.execute_input": "2022-02-26T19:34:08.065460Z",
     "iopub.status.busy": "2022-02-26T19:34:08.065053Z",
     "iopub.status.idle": "2022-02-26T19:34:08.074245Z",
     "shell.execute_reply": "2022-02-26T19:34:08.073136Z",
     "shell.execute_reply.started": "2022-02-26T19:34:08.065409Z"
    }
   },
   "outputs": [],
   "source": [
    "num_features = train_df.select_dtypes(include=['float64']).columns.values"
   ]
  },
  {
   "cell_type": "code",
   "execution_count": 44,
   "metadata": {
    "execution": {
     "iopub.execute_input": "2022-02-26T19:34:08.993182Z",
     "iopub.status.busy": "2022-02-26T19:34:08.992891Z",
     "iopub.status.idle": "2022-02-26T19:34:09.990454Z",
     "shell.execute_reply": "2022-02-26T19:34:09.989480Z",
     "shell.execute_reply.started": "2022-02-26T19:34:08.993152Z"
    }
   },
   "outputs": [],
   "source": [
    "# Correlation\n",
    "corr = train_df[num_features].corr().abs()\n",
    "\n",
    "# plot the correlation heatmap\n",
    "\n",
    "fig, ax = plt.subplots(figsize=(27, 30))\n",
    "sns.heatmap(corr, vmin=-1, vmax=1, cmap = 'RdBu_r', xticklabels=True, yticklabels=True, cbar_kws={'label' : 'correlation'}, ax=ax)"
   ]
  },
  {
   "cell_type": "code",
   "execution_count": 45,
   "metadata": {
    "execution": {
     "iopub.execute_input": "2022-02-26T19:34:09.993094Z",
     "iopub.status.busy": "2022-02-26T19:34:09.992596Z",
     "iopub.status.idle": "2022-02-26T19:34:10.031949Z",
     "shell.execute_reply": "2022-02-26T19:34:10.031128Z",
     "shell.execute_reply.started": "2022-02-26T19:34:09.993051Z"
    }
   },
   "outputs": [],
   "source": [
    "upper_tri = corr.where(np.triu(np.ones(corr.shape),k=1).astype(np.bool))\n",
    "upper_tri"
   ]
  },
  {
   "cell_type": "code",
   "execution_count": 46,
   "metadata": {
    "execution": {
     "iopub.execute_input": "2022-02-26T19:34:10.033711Z",
     "iopub.status.busy": "2022-02-26T19:34:10.033001Z",
     "iopub.status.idle": "2022-02-26T19:34:10.047064Z",
     "shell.execute_reply": "2022-02-26T19:34:10.046422Z",
     "shell.execute_reply.started": "2022-02-26T19:34:10.033676Z"
    }
   },
   "outputs": [],
   "source": [
    "# Sort features by their (absolute) correlation with the target variable.\n",
    "\n",
    "corr.sort_values(by='site_eui', key=abs, ascending=False)['site_eui']"
   ]
  },
  {
   "cell_type": "code",
   "execution_count": 47,
   "metadata": {
    "execution": {
     "iopub.execute_input": "2022-02-26T19:34:10.319389Z",
     "iopub.status.busy": "2022-02-26T19:34:10.318798Z",
     "iopub.status.idle": "2022-02-26T19:34:10.330105Z",
     "shell.execute_reply": "2022-02-26T19:34:10.329307Z",
     "shell.execute_reply.started": "2022-02-26T19:34:10.319338Z"
    }
   },
   "outputs": [],
   "source": [
    "# Looking at Features having >80% correlation with any other feature\n",
    "[column for column in upper_tri.columns if any(upper_tri[column] > 0.8)]"
   ]
  },
  {
   "cell_type": "code",
   "execution_count": 48,
   "metadata": {
    "execution": {
     "iopub.execute_input": "2022-02-26T19:34:10.859313Z",
     "iopub.status.busy": "2022-02-26T19:34:10.858711Z",
     "iopub.status.idle": "2022-02-26T19:34:10.863990Z",
     "shell.execute_reply": "2022-02-26T19:34:10.863242Z",
     "shell.execute_reply.started": "2022-02-26T19:34:10.859268Z"
    }
   },
   "outputs": [],
   "source": [
    "# Dropping features with >80% correlation \n",
    "to_drop = ['february_avg_temp','march_avg_temp','july_avg_temp',\"august_avg_temp\",\"september_avg_temp\",\"avg_temp\",\"year_built\"]"
   ]
  },
  {
   "cell_type": "code",
   "execution_count": 49,
   "metadata": {
    "execution": {
     "iopub.execute_input": "2022-02-26T19:34:11.248169Z",
     "iopub.status.busy": "2022-02-26T19:34:11.247854Z",
     "iopub.status.idle": "2022-02-26T19:34:11.271861Z",
     "shell.execute_reply": "2022-02-26T19:34:11.270875Z",
     "shell.execute_reply.started": "2022-02-26T19:34:11.248128Z"
    }
   },
   "outputs": [],
   "source": [
    "train_df_new = train_df.drop(columns=train_df[to_drop], axis=1)\n",
    "test_df_new = test_df.drop(columns=train_df[to_drop], axis=1)\n",
    "\n",
    "train_df.shape, test_df.shape"
   ]
  },
  {
   "cell_type": "code",
   "execution_count": 50,
   "metadata": {
    "execution": {
     "iopub.execute_input": "2022-02-26T19:34:11.640860Z",
     "iopub.status.busy": "2022-02-26T19:34:11.640515Z",
     "iopub.status.idle": "2022-02-26T19:34:11.646786Z",
     "shell.execute_reply": "2022-02-26T19:34:11.645989Z",
     "shell.execute_reply.started": "2022-02-26T19:34:11.640816Z"
    }
   },
   "outputs": [],
   "source": [
    "train_df_new.shape, test_df_new.shape"
   ]
  },
  {
   "cell_type": "code",
   "execution_count": 51,
   "metadata": {
    "execution": {
     "iopub.execute_input": "2022-02-26T19:34:12.041023Z",
     "iopub.status.busy": "2022-02-26T19:34:12.040700Z",
     "iopub.status.idle": "2022-02-26T19:34:12.060491Z",
     "shell.execute_reply": "2022-02-26T19:34:12.059548Z",
     "shell.execute_reply.started": "2022-02-26T19:34:12.040987Z"
    }
   },
   "outputs": [],
   "source": [
    "train_df_new.select_dtypes(include=[\"object\"])"
   ]
  },
  {
   "cell_type": "code",
   "execution_count": 52,
   "metadata": {
    "execution": {
     "iopub.execute_input": "2022-02-26T19:34:12.484314Z",
     "iopub.status.busy": "2022-02-26T19:34:12.484014Z",
     "iopub.status.idle": "2022-02-26T19:34:12.499380Z",
     "shell.execute_reply": "2022-02-26T19:34:12.498679Z",
     "shell.execute_reply.started": "2022-02-26T19:34:12.484279Z"
    }
   },
   "outputs": [],
   "source": [
    "test_df_new.select_dtypes(include=[\"object\"])"
   ]
  },
  {
   "cell_type": "markdown",
   "metadata": {},
   "source": [
    "### Feature Scaling"
   ]
  },
  {
   "cell_type": "code",
   "execution_count": 55,
   "metadata": {
    "execution": {
     "iopub.execute_input": "2022-02-26T19:34:14.165014Z",
     "iopub.status.busy": "2022-02-26T19:34:14.164159Z",
     "iopub.status.idle": "2022-02-26T19:34:14.215534Z",
     "shell.execute_reply": "2022-02-26T19:34:14.214744Z",
     "shell.execute_reply.started": "2022-02-26T19:34:14.164971Z"
    }
   },
   "outputs": [],
   "source": [
    "# Splitting train Data into train and validation\n",
    "train_dta, val_dta = train_test_split(train_df_new, test_size = 0.3)\n",
    "train_dta.shape, val_dta.shape"
   ]
  },
  {
   "cell_type": "code",
   "execution_count": 56,
   "metadata": {
    "execution": {
     "iopub.execute_input": "2022-02-26T19:34:15.080551Z",
     "iopub.status.busy": "2022-02-26T19:34:15.080229Z",
     "iopub.status.idle": "2022-02-26T19:34:15.128243Z",
     "shell.execute_reply": "2022-02-26T19:34:15.127363Z",
     "shell.execute_reply.started": "2022-02-26T19:34:15.080498Z"
    }
   },
   "outputs": [],
   "source": [
    "# Segmenting data into two segments based on state_factor\n",
    "train_df_new_sf2 = train_df_new[train_df_new[\"State_Factor_bin_le\"] == 2]\n",
    "train_df_new_sfrest = train_df_new[train_df_new[\"State_Factor_bin_le\"] != 2]\n",
    "\n",
    "test_df_new_sf2 = test_df_new[test_df_new[\"State_Factor_bin_le\"] == 2]\n",
    "test_df_new_sfrest = test_df_new[test_df_new[\"State_Factor_bin_le\"] != 2]\n",
    "train_df_new_sf2.shape, train_df_new_sfrest.shape, test_df_new_sf2.shape, test_df_new_sfrest.shape\n",
    "\n",
    "# Dropping columns not required in training\n",
    "train_df_new_sf2 = train_df_new_sf2.drop(columns=[\"Year_Factor\",\"id\", \"facility_type\",\"State_Factor\",\"building_class\"], axis=1)\n",
    "train_df_new_sfrest = train_df_new_sfrest.drop(columns=[\"Year_Factor\",\"id\", \"facility_type\",\"State_Factor\",\"building_class\"], axis=1)\n",
    "\n",
    "train_df_new_sf2.shape, train_df_new_sfrest.shape, test_df_new_sf2.shape, test_df_new_sfrest.shape"
   ]
  },
  {
   "cell_type": "code",
   "execution_count": 57,
   "metadata": {
    "execution": {
     "iopub.execute_input": "2022-02-26T19:34:16.172267Z",
     "iopub.status.busy": "2022-02-26T19:34:16.171502Z",
     "iopub.status.idle": "2022-02-26T19:34:16.201078Z",
     "shell.execute_reply": "2022-02-26T19:34:16.200104Z",
     "shell.execute_reply.started": "2022-02-26T19:34:16.172220Z"
    }
   },
   "outputs": [],
   "source": [
    "# train_dta, val_dta = train_df_new[train_df_new[\"Year_Factor\"] < 6], train_df_new[train_df_new[\"Year_Factor\"] == 6]\n",
    "# Dropping columns not required in training\n",
    "train_df_new.select_dtypes(include=[\"object\"])\n",
    "\n",
    "train_dta = train_dta.drop(columns=[\"Year_Factor\",\"id\", \"facility_type\",\"State_Factor\",\"building_class\"], axis=1)\n",
    "val_dta = val_dta.drop(columns=[\"Year_Factor\",\"id\", \"facility_type\",\"State_Factor\",\"building_class\"], axis=1)\n",
    "test_df_new = test_df_new.drop(columns=[\"Year_Factor\",\"id\", \"facility_type\",\"State_Factor\",\"building_class\"], axis=1)"
   ]
  },
  {
   "cell_type": "code",
   "execution_count": 58,
   "metadata": {
    "execution": {
     "iopub.execute_input": "2022-02-26T19:34:21.234379Z",
     "iopub.status.busy": "2022-02-26T19:34:21.234078Z",
     "iopub.status.idle": "2022-02-26T19:34:21.239950Z",
     "shell.execute_reply": "2022-02-26T19:34:21.239150Z",
     "shell.execute_reply.started": "2022-02-26T19:34:21.234343Z"
    }
   },
   "outputs": [],
   "source": [
    "test_df_new.shape, train_dta.shape, val_dta.shape"
   ]
  },
  {
   "cell_type": "code",
   "execution_count": 59,
   "metadata": {
    "execution": {
     "iopub.execute_input": "2022-02-26T19:34:21.889426Z",
     "iopub.status.busy": "2022-02-26T19:34:21.889126Z",
     "iopub.status.idle": "2022-02-26T19:34:21.903486Z",
     "shell.execute_reply": "2022-02-26T19:34:21.902753Z",
     "shell.execute_reply.started": "2022-02-26T19:34:21.889386Z"
    }
   },
   "outputs": [],
   "source": [
    "# Creating X and y for train and validation\n",
    "train_target = train_dta[\"site_eui\"]\n",
    "val_target = val_dta[\"site_eui\"]\n",
    "\n",
    "train_dta = train_dta.drop(columns=[\"site_eui\"], axis=1)\n",
    "val_dta = val_dta.drop(columns=[\"site_eui\"], axis=1)"
   ]
  },
  {
   "cell_type": "code",
   "execution_count": 60,
   "metadata": {
    "execution": {
     "iopub.execute_input": "2022-02-26T19:34:22.370128Z",
     "iopub.status.busy": "2022-02-26T19:34:22.369326Z",
     "iopub.status.idle": "2022-02-26T19:34:22.434761Z",
     "shell.execute_reply": "2022-02-26T19:34:22.434062Z",
     "shell.execute_reply.started": "2022-02-26T19:34:22.370075Z"
    }
   },
   "outputs": [],
   "source": [
    "train_full = train_dta.append(val_dta).reset_index()\n",
    "target_full = train_target.append(val_target).reset_index()"
   ]
  },
  {
   "cell_type": "code",
   "execution_count": 61,
   "metadata": {
    "execution": {
     "iopub.execute_input": "2022-02-26T19:34:22.805682Z",
     "iopub.status.busy": "2022-02-26T19:34:22.805064Z",
     "iopub.status.idle": "2022-02-26T19:34:22.820928Z",
     "shell.execute_reply": "2022-02-26T19:34:22.820005Z",
     "shell.execute_reply.started": "2022-02-26T19:34:22.805630Z"
    }
   },
   "outputs": [],
   "source": [
    "# Creating X and y for train and validation for segmented data\n",
    "train_target_sf2 = train_df_new_sf2[\"site_eui\"]\n",
    "train_target_sfrest = train_df_new_sfrest[\"site_eui\"]\n",
    "\n",
    "train_dta_sf2 = train_df_new_sf2.drop(columns=[\"site_eui\"], axis=1)\n",
    "train_dta_sfrest = train_df_new_sfrest.drop(columns=[\"site_eui\"], axis=1)"
   ]
  },
  {
   "cell_type": "markdown",
   "metadata": {},
   "source": [
    "## Models"
   ]
  },
  {
   "cell_type": "code",
   "execution_count": 65,
   "metadata": {
    "execution": {
     "iopub.execute_input": "2022-02-26T19:34:25.620697Z",
     "iopub.status.busy": "2022-02-26T19:34:25.620262Z",
     "iopub.status.idle": "2022-02-26T19:34:25.625123Z",
     "shell.execute_reply": "2022-02-26T19:34:25.624266Z",
     "shell.execute_reply.started": "2022-02-26T19:34:25.620667Z"
    }
   },
   "outputs": [],
   "source": [
    "from catboost import CatBoostRegressor"
   ]
  },
  {
   "cell_type": "markdown",
   "metadata": {},
   "source": [
    "### CatBoost"
   ]
  },
  {
   "cell_type": "code",
   "execution_count": 67,
   "metadata": {
    "execution": {
     "iopub.execute_input": "2022-02-26T19:34:27.140516Z",
     "iopub.status.busy": "2022-02-26T19:34:27.139752Z",
     "iopub.status.idle": "2022-02-26T19:34:27.151876Z",
     "shell.execute_reply": "2022-02-26T19:34:27.150941Z",
     "shell.execute_reply.started": "2022-02-26T19:34:27.140478Z"
    }
   },
   "outputs": [],
   "source": [
    "import catboost as cb\n",
    "from tqdm import tqdm\n",
    "from sklearn.model_selection import ParameterGrid\n",
    "\n",
    "RANDOM_STATE = 42\n",
    "\n",
    "# function returning the average rmse for cross validated test folds\n",
    "def cross_val(X, y, X_test, param, n_splits=3, n_repeats=3):\n",
    "    import catboost as cb\n",
    "    rkf = RepeatedKFold(n_splits=n_splits, n_repeats=n_repeats, random_state=RANDOM_STATE)\n",
    "    \n",
    "    rmse = []\n",
    "    \n",
    "    for tr_ind, val_ind in rkf.split(X, y):\n",
    "        X_train = X.iloc[tr_ind]\n",
    "        X_train = X_train.drop(columns=[\"index\"], axis=1)\n",
    "        y_train = y.iloc[tr_ind]\n",
    "        y_train = y_train.drop(columns=[\"index\"], axis=1)\n",
    "        \n",
    "        X_valid = X.iloc[val_ind]\n",
    "        X_valid = X_valid.drop(columns=[\"index\"], axis=1)\n",
    "        y_valid = y.iloc[val_ind]\n",
    "        y_valid = y_valid.drop(columns=[\"index\"], axis=1)\n",
    "        \n",
    "        catb = cb.CatBoostRegressor(iterations=param['iterations'],\n",
    "                                depth=param['depth'],\n",
    "                                l2_leaf_reg = param['l2_leaf_reg'],\n",
    "                                learning_rate = param['learning_rate'],\n",
    "                                loss_function = 'RMSE')\n",
    "                                                 \n",
    "        catb.fit(X_train, y_train, eval_set=(X_valid, y_valid))\n",
    "        \n",
    "        y_pred = catb.predict(X_valid)\n",
    "        root_mse = np.sqrt(mean_squared_error(y_valid, y_pred))\n",
    "        rmse.append(root_mse)\n",
    "    return np.mean(rmse)"
   ]
  },
  {
   "cell_type": "code",
   "execution_count": 68,
   "metadata": {
    "execution": {
     "iopub.execute_input": "2022-02-26T19:34:27.586700Z",
     "iopub.status.busy": "2022-02-26T19:34:27.585817Z",
     "iopub.status.idle": "2022-02-26T19:34:27.594541Z",
     "shell.execute_reply": "2022-02-26T19:34:27.593855Z",
     "shell.execute_reply.started": "2022-02-26T19:34:27.586642Z"
    }
   },
   "outputs": [],
   "source": [
    "# function conducting a gridsearch along with cross validation and returning the best params giving lowest rmse\n",
    "def catboost_GridSearchCV(X, y, X_test, params, n_splits=3, n_repeats=3):\n",
    "    ps = {'rmse':100,\n",
    "          'param': []\n",
    "    }\n",
    "    \n",
    "    \n",
    "    for prms in tqdm(list(ParameterGrid(params)), ascii=True, desc='Params Tuning:'):\n",
    "                          \n",
    "        rmse = cross_val(X, y, X_test, prms, n_splits=n_splits, n_repeats=n_repeats)\n",
    "\n",
    "        if rmse<ps['rmse']:\n",
    "            ps['rmse'] = rmse\n",
    "            ps['param'] = prms\n",
    "    print('RMSE: '+str(ps['rmse']))\n",
    "    print('Params: '+str(ps['param']))\n",
    "    \n",
    "    return ps['param']"
   ]
  },
  {
   "cell_type": "code",
   "execution_count": 69,
   "metadata": {
    "execution": {
     "iopub.execute_input": "2022-02-26T19:34:28.491535Z",
     "iopub.status.busy": "2022-02-26T19:34:28.490810Z",
     "iopub.status.idle": "2022-02-26T19:34:28.496080Z",
     "shell.execute_reply": "2022-02-26T19:34:28.494976Z",
     "shell.execute_reply.started": "2022-02-26T19:34:28.491492Z"
    }
   },
   "outputs": [],
   "source": [
    "# Declaring the parameters over which grid search will be done\n",
    "params = {'depth': [4, 7, 10, 12],\n",
    "          'learning_rate' : [0.03, 0.1, 0.15],\n",
    "          'l2_leaf_reg': [1,4,9],\n",
    "          'iterations': [100, 200, 500],\n",
    "          'early_stopping_rounds': [9],\n",
    "          'random_seed': [417]}\n",
    "\n",
    "param = catboost_GridSearchCV(train_full, target_full, test_df_new, params, n_splits=3, n_repeats=3)\n",
    "\n",
    "cb = cb.CatBoostRegressor()\n",
    "cb.grid_search(params, train_dta, y=train_target)"
   ]
  },
  {
   "cell_type": "code",
   "execution_count": 70,
   "metadata": {
    "execution": {
     "iopub.execute_input": "2022-02-26T19:34:32.488073Z",
     "iopub.status.busy": "2022-02-26T19:34:32.487300Z",
     "iopub.status.idle": "2022-02-26T19:34:32.491754Z",
     "shell.execute_reply": "2022-02-26T19:34:32.490843Z",
     "shell.execute_reply.started": "2022-02-26T19:34:32.488034Z"
    }
   },
   "outputs": [],
   "source": [
    "param # best parameters"
   ]
  },
  {
   "cell_type": "code",
   "execution_count": 71,
   "metadata": {
    "execution": {
     "iopub.execute_input": "2022-02-26T19:34:32.823585Z",
     "iopub.status.busy": "2022-02-26T19:34:32.822969Z",
     "iopub.status.idle": "2022-02-26T19:34:32.846484Z",
     "shell.execute_reply": "2022-02-26T19:34:32.845830Z",
     "shell.execute_reply.started": "2022-02-26T19:34:32.823541Z"
    }
   },
   "outputs": [],
   "source": [
    "train_full = train_full.drop(columns=[\"index\"], axis=1)\n",
    "target_full = target_full.drop(columns=[\"index\"], axis=1)"
   ]
  },
  {
   "cell_type": "code",
   "execution_count": 73,
   "metadata": {
    "execution": {
     "iopub.execute_input": "2022-02-26T19:34:35.056570Z",
     "iopub.status.busy": "2022-02-26T19:34:35.056255Z",
     "iopub.status.idle": "2022-02-26T19:34:48.438542Z",
     "shell.execute_reply": "2022-02-26T19:34:48.437381Z",
     "shell.execute_reply.started": "2022-02-26T19:34:35.056534Z"
    }
   },
   "outputs": [],
   "source": [
    "# Fitting the model with the best params from gridsearch with CV\n",
    "catb_hpo = CatBoostRegressor(\n",
    "    verbose=1000,\n",
    "    early_stopping_rounds=9,\n",
    "    random_seed=417,\n",
    "    depth=10,\n",
    "    learning_rate=0.15,\n",
    "    iterations=500,\n",
    "    l2_leaf_reg=1,\n",
    "    loss_function='RMSE'\n",
    "    )\n",
    "\n",
    "catb_hpo.fit(train_full, target_full) # fitting the model on full train dataset (since did cross validation, did not split train data into train and validation)\n",
    "catb_hpo.fit(train_dta_sfrest, train_target_sfrest) # fitting the model on segmented data with state_factor not in 6,4,8"
   ]
  },
  {
   "cell_type": "code",
   "execution_count": 74,
   "metadata": {
    "execution": {
     "iopub.execute_input": "2022-02-26T19:34:48.440366Z",
     "iopub.status.busy": "2022-02-26T19:34:48.440036Z",
     "iopub.status.idle": "2022-02-26T19:34:48.445745Z",
     "shell.execute_reply": "2022-02-26T19:34:48.444835Z",
     "shell.execute_reply.started": "2022-02-26T19:34:48.440332Z"
    }
   },
   "outputs": [],
   "source": [
    "# Grid Search with CV for RF for the other segment (State_factor in 6,4,8)\n",
    "from sklearn.ensemble import RandomForestRegressor\n",
    "from sklearn.model_selection import GridSearchCV\n",
    "# Create the parameter grid based on the results of random search \n",
    "param_grid = {\n",
    "    'bootstrap': [True],\n",
    "    'max_depth': [10, 90, 100],\n",
    "    'max_features': [2, 3],\n",
    "    'min_samples_leaf': [3, 4, 5],\n",
    "    'min_samples_split': [8, 10, 12],\n",
    "    'n_estimators': [100, 300, 1000]\n",
    "}\n",
    "# Create a base model\n",
    "rf = RandomForestRegressor()\n",
    "# Instantiate the grid search model\n",
    "grid_search = GridSearchCV(estimator = rf, param_grid = param_grid, \n",
    "                          cv = 3, n_jobs = -1, verbose = 2)\n",
    "grid_search.fit(train_dta_sf2, train_target_sf2)\n",
    "rf = RandomForestRegressor(criterion='mse',max_depth = 10, random_state=417)\n",
    "rf.fit(train_dta_sf2, train_target_sf2)"
   ]
  },
  {
   "cell_type": "code",
   "execution_count": null,
   "metadata": {},
   "outputs": [],
   "source": [
    "grid_search.best_params_ # best params from grid search"
   ]
  },
  {
   "cell_type": "code",
   "execution_count": 75,
   "metadata": {
    "execution": {
     "iopub.execute_input": "2022-02-26T19:36:09.575519Z",
     "iopub.status.busy": "2022-02-26T19:36:09.574887Z",
     "iopub.status.idle": "2022-02-26T19:36:14.123786Z",
     "shell.execute_reply": "2022-02-26T19:36:14.122934Z",
     "shell.execute_reply.started": "2022-02-26T19:36:09.575482Z"
    }
   },
   "outputs": [],
   "source": [
    "# Fitting RF on the other segment with the best params from GridSearchCV\n",
    "from sklearn.ensemble import RandomForestRegressor\n",
    "\n",
    "rf_best = RandomForestRegressor(bootstrap=True, max_depth=90, max_features=3, min_samples_leaf=3, min_samples_split=12, n_estimators=100)\n",
    "rf_best.fit(train_dta_sf2, train_target_sf2)"
   ]
  },
  {
   "cell_type": "code",
   "execution_count": 76,
   "metadata": {
    "execution": {
     "iopub.execute_input": "2022-02-26T19:36:14.125455Z",
     "iopub.status.busy": "2022-02-26T19:36:14.125220Z",
     "iopub.status.idle": "2022-02-26T19:36:14.836143Z",
     "shell.execute_reply": "2022-02-26T19:36:14.835533Z",
     "shell.execute_reply.started": "2022-02-26T19:36:14.125426Z"
    }
   },
   "outputs": [],
   "source": [
    "# print(\"Train Mean Absolute Error: \", mean_absolute_error(train_target, catb.predict(train))) # 25.498\n",
    "# print(\"Train Mean Square Error: \", mean_squared_error(train_target, catb.predict(train))) # 2149.902\n",
    "# print(\"Train RMSE: \", np.sqrt(mean_squared_error(train_target, catb.predict(train)))) # 46.367\n",
    "\n",
    "# print(\"Val Mean Absolute Error: \", mean_absolute_error(val_target, catb_predict)) # 25.498\n",
    "# print(\"Val Mean Square Error: \", mean_squared_error(val_target, catb_predict)) # 2149.902\n",
    "# print(\"Val RMSE: \", np.sqrt(mean_squared_error(val_target, catb_predict))) # 46.367\n",
    "# print(\"RMSE HPO1: \", np.sqrt(mean_squared_error(target_full, catb_hpo.predict(train_full)))) # 28.322\n",
    "# print(\"RMSE HPO2: \", np.sqrt(mean_squared_error(target_full, catb_hpo.predict(train_full)))) # 28.23\n",
    "print(\"RMSE HPO3: \", np.sqrt(mean_squared_error(target_full, catb_hpo.predict(train_full_scaled)))) # 28.23\n",
    "print(\"RMSE HPO SFREST: \", np.sqrt(mean_squared_error(train_target_sfrest, catb_hpo.predict(train_dta_sfrest)))) # 14.64\n",
    "print(\"RMSE HPO SF2: \", np.sqrt(mean_squared_error(train_target_sf2, rf_best.predict(train_dta_sf2)))) # 40.6"
   ]
  },
  {
   "cell_type": "code",
   "execution_count": 77,
   "metadata": {
    "execution": {
     "iopub.execute_input": "2022-02-26T19:36:17.069008Z",
     "iopub.status.busy": "2022-02-26T19:36:17.068147Z",
     "iopub.status.idle": "2022-02-26T19:36:18.231494Z",
     "shell.execute_reply": "2022-02-26T19:36:18.230702Z",
     "shell.execute_reply.started": "2022-02-26T19:36:17.068938Z"
    }
   },
   "outputs": [],
   "source": [
    "# Feature importance in the catboost regression\n",
    "feature_imp = pd.DataFrame(sorted(zip(catb_hpo.feature_importances_, train_full.columns),reverse = True), columns=['Value','Feature'])\n",
    "feature_imp = feature_imp[feature_imp.Value != 0]\n",
    "plt.figure(figsize=(20, 10))\n",
    "sns.barplot(x=\"Value\", y=\"Feature\", data=feature_imp.sort_values(by=\"Value\", ascending=False))\n",
    "plt.title('CatBoost Feature Importance')\n",
    "plt.tight_layout()\n",
    "plt.show()\n",
    "plt.savefig('catb_importances-01.png')"
   ]
  },
  {
   "cell_type": "markdown",
   "metadata": {},
   "source": [
    "### Kaggle Test Prediction & Submission"
   ]
  },
  {
   "cell_type": "code",
   "execution_count": 78,
   "metadata": {
    "execution": {
     "iopub.execute_input": "2022-02-26T19:36:26.378263Z",
     "iopub.status.busy": "2022-02-26T19:36:26.377947Z",
     "iopub.status.idle": "2022-02-26T19:36:26.489378Z",
     "shell.execute_reply": "2022-02-26T19:36:26.488489Z",
     "shell.execute_reply.started": "2022-02-26T19:36:26.378236Z"
    }
   },
   "outputs": [],
   "source": [
    "# test_df_x = test_df[x_train.columns]\n",
    "test_df_final = pd.read_csv(\"../input/widsdatathon2022/test.csv\")\n",
    "test_df_final.head()"
   ]
  },
  {
   "cell_type": "code",
   "execution_count": 79,
   "metadata": {
    "execution": {
     "iopub.execute_input": "2022-02-26T19:36:26.769721Z",
     "iopub.status.busy": "2022-02-26T19:36:26.769409Z",
     "iopub.status.idle": "2022-02-26T19:36:26.841507Z",
     "shell.execute_reply": "2022-02-26T19:36:26.840399Z",
     "shell.execute_reply.started": "2022-02-26T19:36:26.769669Z"
    }
   },
   "outputs": [],
   "source": [
    "# Dropping unnecessary columns\n",
    "test_df_new_sf2_v2 = test_df_new_sf2.drop(columns=[\"Year_Factor\",\"id\", \"facility_type\",\"State_Factor\",\"building_class\"], axis=1)\n",
    "test_df_new_sfrest_v2 = test_df_new_sfrest.drop(columns=[\"Year_Factor\",\"id\", \"facility_type\",\"State_Factor\",\"building_class\"], axis=1)\n",
    "\n",
    "# Predicting site_eui for both the segments\n",
    "predict_sub_sfrest = catb_hpo.predict(test_df_new_sfrest_v2)\n",
    "predict_sub_sf2 = rf_best.predict(test_df_new_sf2_v2)"
   ]
  },
  {
   "cell_type": "code",
   "execution_count": 80,
   "metadata": {
    "execution": {
     "iopub.execute_input": "2022-02-26T19:36:27.376245Z",
     "iopub.status.busy": "2022-02-26T19:36:27.375367Z",
     "iopub.status.idle": "2022-02-26T19:36:27.379366Z",
     "shell.execute_reply": "2022-02-26T19:36:27.378836Z",
     "shell.execute_reply.started": "2022-02-26T19:36:27.376203Z"
    }
   },
   "outputs": [],
   "source": [
    "# train_dta_sf2.columns, test_df_new_sf2_v2.columns"
   ]
  },
  {
   "cell_type": "code",
   "execution_count": 81,
   "metadata": {
    "execution": {
     "iopub.execute_input": "2022-02-26T19:36:28.135168Z",
     "iopub.status.busy": "2022-02-26T19:36:28.134211Z",
     "iopub.status.idle": "2022-02-26T19:36:28.142881Z",
     "shell.execute_reply": "2022-02-26T19:36:28.141915Z",
     "shell.execute_reply.started": "2022-02-26T19:36:28.135103Z"
    }
   },
   "outputs": [],
   "source": [
    "test_df_new_sfrest[\"pred\"] = predict_sub_sfrest\n",
    "test_df_new_sf2[\"pred\"] = predict_sub_sf2\n",
    "# test_df_new_sfrest.head(), test_df_new_sf2.head()"
   ]
  },
  {
   "cell_type": "code",
   "execution_count": 82,
   "metadata": {
    "execution": {
     "iopub.execute_input": "2022-02-26T19:36:28.697847Z",
     "iopub.status.busy": "2022-02-26T19:36:28.697478Z",
     "iopub.status.idle": "2022-02-26T19:36:28.775742Z",
     "shell.execute_reply": "2022-02-26T19:36:28.774854Z",
     "shell.execute_reply.started": "2022-02-26T19:36:28.697805Z"
    }
   },
   "outputs": [],
   "source": [
    "# Merging the predictions with the full test data using id, year_factor, state_factor as keys\n",
    "test_df_final_pred1=test_df_final.merge(test_df_new_sfrest, on=[\"id\",\"Year_Factor\",\"State_Factor\"], how='left')\n",
    "test_df_final_pred2=test_df_final_pred1.merge(test_df_new_sf2, on=[\"id\",\"Year_Factor\",\"State_Factor\"], how='left')"
   ]
  },
  {
   "cell_type": "code",
   "execution_count": 83,
   "metadata": {
    "execution": {
     "iopub.execute_input": "2022-02-26T19:36:29.313959Z",
     "iopub.status.busy": "2022-02-26T19:36:29.313618Z",
     "iopub.status.idle": "2022-02-26T19:36:29.320672Z",
     "shell.execute_reply": "2022-02-26T19:36:29.319811Z",
     "shell.execute_reply.started": "2022-02-26T19:36:29.313924Z"
    }
   },
   "outputs": [],
   "source": [
    "# Creating final pred column taking the prediction of the respective model\n",
    "test_df_final_pred2['pred'] = np.where(test_df_final_pred2.pred_x.isna(),test_df_final_pred2.pred_y,test_df_final_pred2.pred_x)"
   ]
  },
  {
   "cell_type": "code",
   "execution_count": 84,
   "metadata": {
    "execution": {
     "iopub.execute_input": "2022-02-26T19:36:29.813984Z",
     "iopub.status.busy": "2022-02-26T19:36:29.813013Z",
     "iopub.status.idle": "2022-02-26T19:36:29.819032Z",
     "shell.execute_reply": "2022-02-26T19:36:29.818273Z",
     "shell.execute_reply.started": "2022-02-26T19:36:29.813934Z"
    }
   },
   "outputs": [],
   "source": [
    "# Final prediction\n",
    "predict_sub = test_df_final_pred2['pred']"
   ]
  },
  {
   "cell_type": "code",
   "execution_count": 85,
   "metadata": {
    "execution": {
     "iopub.execute_input": "2022-02-26T19:36:30.258433Z",
     "iopub.status.busy": "2022-02-26T19:36:30.257809Z",
     "iopub.status.idle": "2022-02-26T19:36:30.268335Z",
     "shell.execute_reply": "2022-02-26T19:36:30.267350Z",
     "shell.execute_reply.started": "2022-02-26T19:36:30.258379Z"
    }
   },
   "outputs": [],
   "source": [
    "sample_sol = pd.read_csv(\"../input/widsdatathon2022/sample_solution.csv\")"
   ]
  },
  {
   "cell_type": "code",
   "execution_count": 86,
   "metadata": {
    "execution": {
     "iopub.execute_input": "2022-02-26T19:36:30.762517Z",
     "iopub.status.busy": "2022-02-26T19:36:30.762089Z",
     "iopub.status.idle": "2022-02-26T19:36:30.769068Z",
     "shell.execute_reply": "2022-02-26T19:36:30.768495Z",
     "shell.execute_reply.started": "2022-02-26T19:36:30.762485Z"
    }
   },
   "outputs": [],
   "source": [
    "len(predict_sub), len(sample_sol.site_eui)"
   ]
  },
  {
   "cell_type": "code",
   "execution_count": 87,
   "metadata": {
    "execution": {
     "iopub.execute_input": "2022-02-26T19:36:31.582227Z",
     "iopub.status.busy": "2022-02-26T19:36:31.581435Z",
     "iopub.status.idle": "2022-02-26T19:36:31.586677Z",
     "shell.execute_reply": "2022-02-26T19:36:31.585719Z",
     "shell.execute_reply.started": "2022-02-26T19:36:31.582179Z"
    }
   },
   "outputs": [],
   "source": [
    "sample_sol.site_eui = predict_sub"
   ]
  },
  {
   "cell_type": "code",
   "execution_count": 88,
   "metadata": {
    "execution": {
     "iopub.execute_input": "2022-02-26T19:36:31.991875Z",
     "iopub.status.busy": "2022-02-26T19:36:31.991517Z",
     "iopub.status.idle": "2022-02-26T19:36:32.032155Z",
     "shell.execute_reply": "2022-02-26T19:36:32.031210Z",
     "shell.execute_reply.started": "2022-02-26T19:36:31.991835Z"
    }
   },
   "outputs": [],
   "source": [
    "sample_sol.to_csv(\"submission_catb_vritti_eco_wochigo_hpo.csv\", index=False)"
   ]
  }
 ],
 "metadata": {
  "kernelspec": {
   "display_name": "Python 3",
   "language": "python",
   "name": "python3"
  },
  "language_info": {
   "codemirror_mode": {
    "name": "ipython",
    "version": 3
   },
   "file_extension": ".py",
   "mimetype": "text/x-python",
   "name": "python",
   "nbconvert_exporter": "python",
   "pygments_lexer": "ipython3",
   "version": "3.8.8"
  }
 },
 "nbformat": 4,
 "nbformat_minor": 4
}
